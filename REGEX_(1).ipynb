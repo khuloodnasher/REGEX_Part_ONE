{
  "nbformat": 4,
  "nbformat_minor": 0,
  "metadata": {
    "kernelspec": {
      "display_name": "learn-env",
      "language": "python",
      "name": "learn-env"
    },
    "language_info": {
      "codemirror_mode": {
        "name": "ipython",
        "version": 3
      },
      "file_extension": ".py",
      "mimetype": "text/x-python",
      "name": "python",
      "nbconvert_exporter": "python",
      "pygments_lexer": "ipython3",
      "version": "3.7.6"
    },
    "toc": {
      "base_numbering": 1,
      "nav_menu": {},
      "number_sections": true,
      "sideBar": true,
      "skip_h1_title": false,
      "title_cell": "Table of Contents",
      "title_sidebar": "Contents",
      "toc_cell": true,
      "toc_position": {},
      "toc_section_display": true,
      "toc_window_display": false
    },
    "varInspector": {
      "cols": {
        "lenName": 16,
        "lenType": 16,
        "lenVar": 40
      },
      "kernels_config": {
        "python": {
          "delete_cmd_postfix": "",
          "delete_cmd_prefix": "del ",
          "library": "var_list.py",
          "varRefreshCmd": "print(var_dic_list())"
        },
        "r": {
          "delete_cmd_postfix": ") ",
          "delete_cmd_prefix": "rm(",
          "library": "var_list.r",
          "varRefreshCmd": "cat(var_dic_list()) "
        }
      },
      "types_to_exclude": [
        "module",
        "function",
        "builtin_function_or_method",
        "instance",
        "_Feature"
      ],
      "window_display": false
    },
    "colab": {
      "name": "REGEX (1).ipynb",
      "provenance": [],
      "include_colab_link": true
    }
  },
  "cells": [
    {
      "cell_type": "markdown",
      "metadata": {
        "id": "view-in-github",
        "colab_type": "text"
      },
      "source": [
        "<a href=\"https://colab.research.google.com/github/khuloodnasher/REGEX_Part_ONE/blob/main/REGEX_(1).ipynb\" target=\"_parent\"><img src=\"https://colab.research.google.com/assets/colab-badge.svg\" alt=\"Open In Colab\"/></a>"
      ]
    },
    {
      "cell_type": "markdown",
      "metadata": {
        "toc": true,
        "id": "xDf2TY-2SCAU"
      },
      "source": [
        "<h1>Table of Contents<span class=\"tocSkip\"></span></h1>\n",
        "<div class=\"toc\"><ul class=\"toc-item\"><li><ul class=\"toc-item\"><li><ul class=\"toc-item\"><li><span><a href=\"#To-get-the-span-of-all-my-pattern-instances,-we-will-use-iteration-through-'finditer'-method\" data-toc-modified-id=\"To-get-the-span-of-all-my-pattern-instances,-we-will-use-iteration-through-'finditer'-method-0.0.1\"><span class=\"toc-item-num\">0.0.1&nbsp;&nbsp;</span>To get the span of all my pattern instances, we will use iteration through 'finditer' method</a></span></li><li><span><a href=\"#OR-Operator\" data-toc-modified-id=\"OR-Operator-0.0.2\"><span class=\"toc-item-num\">0.0.2&nbsp;&nbsp;</span>OR Operator</a></span></li></ul></li></ul></li><li><span><a href=\"#Start-With-paatern-^\" data-toc-modified-id=\"Start-With-paatern-^-1\"><span class=\"toc-item-num\">1&nbsp;&nbsp;</span>Start With paatern ^</a></span></li><li><span><a href=\"#End-With-Pattern\" data-toc-modified-id=\"End-With-Pattern-2\"><span class=\"toc-item-num\">2&nbsp;&nbsp;</span>End With Pattern</a></span></li><li><span><a href=\"#Searching-for-Specific-Sequence-of-Characters\" data-toc-modified-id=\"Searching-for-Specific-Sequence-of-Characters-3\"><span class=\"toc-item-num\">3&nbsp;&nbsp;</span>Searching for Specific Sequence of Characters</a></span><ul class=\"toc-item\"><li><ul class=\"toc-item\"><li><span><a href=\"#Exclusion\" data-toc-modified-id=\"Exclusion-3.0.1\"><span class=\"toc-item-num\">3.0.1&nbsp;&nbsp;</span>Exclusion</a></span></li></ul></li></ul></li><li><span><a href=\"#Cleaning-from-Punctuation\" data-toc-modified-id=\"Cleaning-from-Punctuation-4\"><span class=\"toc-item-num\">4&nbsp;&nbsp;</span>Cleaning from Punctuation</a></span></li></ul></div>"
      ]
    },
    {
      "cell_type": "code",
      "metadata": {
        "ExecuteTime": {
          "end_time": "2020-11-10T07:29:22.579904Z",
          "start_time": "2020-11-10T07:29:22.576688Z"
        },
        "id": "eNaMemEsSCAV"
      },
      "source": [
        "import re\n",
        "my_text=\"Amazon's customer service phone number is 1-888-280-4331.You can call that number 24 hours a day\"\n",
        "\n",
        "my_pattern= 'number'"
      ],
      "execution_count": null,
      "outputs": []
    },
    {
      "cell_type": "code",
      "metadata": {
        "ExecuteTime": {
          "end_time": "2020-11-08T04:01:20.719242Z",
          "start_time": "2020-11-08T04:01:20.712220Z"
        },
        "id": "DpIPeC5LSCAV",
        "outputId": "5533a2fe-f41e-458c-9a71-d721f0a511a1"
      },
      "source": [
        "# search method\n",
        "re.search(my_pattern,my_text)"
      ],
      "execution_count": null,
      "outputs": [
        {
          "output_type": "execute_result",
          "data": {
            "text/plain": [
              "<re.Match object; span=(32, 38), match='number'>"
            ]
          },
          "metadata": {
            "tags": []
          },
          "execution_count": 12
        }
      ]
    },
    {
      "cell_type": "code",
      "metadata": {
        "ExecuteTime": {
          "end_time": "2020-11-08T04:26:25.717715Z",
          "start_time": "2020-11-08T04:26:25.712126Z"
        },
        "id": "lY6J-J8VSCAW",
        "outputId": "f193386c-cda5-4628-c0e7-14a2fa9b090a"
      },
      "source": [
        "# findall method\n",
        "re.findall(my_pattern,my_text)"
      ],
      "execution_count": null,
      "outputs": [
        {
          "output_type": "execute_result",
          "data": {
            "text/plain": [
              "['number', 'number']"
            ]
          },
          "metadata": {
            "tags": []
          },
          "execution_count": 16
        }
      ]
    },
    {
      "cell_type": "markdown",
      "metadata": {
        "id": "7O3poF55SCAW"
      },
      "source": [
        "### To get the span of all my pattern instances, we will use iteration through 'finditer' method"
      ]
    },
    {
      "cell_type": "code",
      "metadata": {
        "ExecuteTime": {
          "end_time": "2020-11-08T04:21:35.439302Z",
          "start_time": "2020-11-08T04:21:35.435920Z"
        },
        "id": "3MhdhgQgSCAW",
        "outputId": "9062c883-9a2d-4cc2-e2aa-93677f24c0e6"
      },
      "source": [
        "# itteration through finditer\n",
        "for pattern in re.finditer(my_pattern,my_text):\n",
        "    print(pattern.span())"
      ],
      "execution_count": null,
      "outputs": [
        {
          "output_type": "stream",
          "text": [
            "(32, 38)\n",
            "(75, 81)\n"
          ],
          "name": "stdout"
        }
      ]
    },
    {
      "cell_type": "code",
      "metadata": {
        "ExecuteTime": {
          "end_time": "2020-11-08T05:32:13.206962Z",
          "start_time": "2020-11-08T05:32:13.202557Z"
        },
        "id": "hjBh5jtGSCAW",
        "outputId": "12e46f37-94ae-4747-a74f-6bec5ee8be62"
      },
      "source": [
        "# searching for phone number pattern\n",
        "phone = re.search(r'\\d-\\d\\d\\d-\\d\\d\\d-\\d\\d\\d\\d',my_text)\n",
        "phone"
      ],
      "execution_count": null,
      "outputs": [
        {
          "output_type": "execute_result",
          "data": {
            "text/plain": [
              "<re.Match object; span=(42, 56), match='1-888-280-4331'>"
            ]
          },
          "metadata": {
            "tags": []
          },
          "execution_count": 18
        }
      ]
    },
    {
      "cell_type": "code",
      "metadata": {
        "ExecuteTime": {
          "end_time": "2020-11-08T08:10:54.467327Z",
          "start_time": "2020-11-08T08:10:54.461477Z"
        },
        "id": "-wFXmkIySCAW",
        "outputId": "74a49167-7335-4eff-b332-bfd82d5d3d4a"
      },
      "source": [
        "#search with identifier and quantifier\n",
        "phone = re.search(r'\\d-\\d{3}-\\d{3}-\\d{4}',my_text)\n",
        "phone"
      ],
      "execution_count": null,
      "outputs": [
        {
          "output_type": "execute_result",
          "data": {
            "text/plain": [
              "<re.Match object; span=(42, 56), match='1-888-280-4331'>"
            ]
          },
          "metadata": {
            "tags": []
          },
          "execution_count": 19
        }
      ]
    },
    {
      "cell_type": "code",
      "metadata": {
        "ExecuteTime": {
          "end_time": "2020-11-09T03:36:56.904221Z",
          "start_time": "2020-11-09T03:36:56.898568Z"
        },
        "id": "hx8o6-H7SCAW",
        "outputId": "8ba4f888-0ac3-46b1-fec1-9d61c82fb6aa"
      },
      "source": [
        "#slicing with group method, make sure to use the paranthesis\n",
        "#group method start count at 1, group (0) and group() give the output of whole string\n",
        "phone = re.search(r'(\\d-)(\\d{3})-(\\d{3})-(\\d{4})',my_text)\n",
        "print(phone.group(0))\n",
        "print(phone.group(1))\n",
        "print(phone.group(2))\n",
        "print(phone.group(3))\n",
        "print(phone.group(4))\n",
        "print(phone.group())"
      ],
      "execution_count": null,
      "outputs": [
        {
          "output_type": "stream",
          "text": [
            "1-888-280-4331\n",
            "1-\n",
            "888\n",
            "280\n",
            "4331\n",
            "1-888-280-4331\n"
          ],
          "name": "stdout"
        }
      ]
    },
    {
      "cell_type": "markdown",
      "metadata": {
        "id": "sime75VRSCAX"
      },
      "source": [
        "### OR Operator"
      ]
    },
    {
      "cell_type": "code",
      "metadata": {
        "ExecuteTime": {
          "end_time": "2020-11-09T05:13:50.654835Z",
          "start_time": "2020-11-09T05:13:50.649342Z"
        },
        "id": "vBBmYJKiSCAX",
        "outputId": "00339ec3-7c0d-47ae-a7f4-b84d58343b03"
      },
      "source": [
        "# using | which means or\n",
        "my_text=\"Amazon's customer service phone number is 1-888-280-4331.You can call that number 24 hours a day\"\n",
        "print(re.findall('phone|number',my_text))\n",
        "\n",
        "print(re.search(r'phone|number',my_text))\n",
        "print(re.search(r'customer|phone',my_text))\n"
      ],
      "execution_count": null,
      "outputs": [
        {
          "output_type": "stream",
          "text": [
            "['phone', 'number', 'number']\n",
            "<re.Match object; span=(26, 31), match='phone'>\n",
            "<re.Match object; span=(9, 17), match='customer'>\n"
          ],
          "name": "stdout"
        }
      ]
    },
    {
      "cell_type": "markdown",
      "metadata": {
        "id": "EVOzMcgqSCAX"
      },
      "source": [
        "# Start With patern ^"
      ]
    },
    {
      "cell_type": "code",
      "metadata": {
        "ExecuteTime": {
          "end_time": "2020-11-09T07:18:45.346269Z",
          "start_time": "2020-11-09T07:18:45.342379Z"
        },
        "id": "bjJadABLSCAX",
        "outputId": "8d2b9776-c3ad-4c99-da49-bccb04f6c612"
      },
      "source": [
        "# search patterns startwith\n",
        "my_text=\"Amazon's customer service phone number is 1-888-280-4331.You can call that number 24 hours a day\"\n",
        "print(re.findall(r'^\\w+',my_text))\n",
        "print(re.findall(r'^\\S+',my_text))\n"
      ],
      "execution_count": null,
      "outputs": [
        {
          "output_type": "stream",
          "text": [
            "['Amazon']\n",
            "[\"Amazon's\"]\n"
          ],
          "name": "stdout"
        }
      ]
    },
    {
      "cell_type": "markdown",
      "metadata": {
        "id": "49HwyQ0DSCAX"
      },
      "source": [
        "# End With Pattern"
      ]
    },
    {
      "cell_type": "code",
      "metadata": {
        "ExecuteTime": {
          "end_time": "2020-11-12T06:22:56.051193Z",
          "start_time": "2020-11-12T06:22:56.046438Z"
        },
        "id": "4E72ZOICSCAX",
        "outputId": "1e4b8bd8-7a0e-4637-999e-4623964e9631"
      },
      "source": [
        "# Search pattern ends with\n",
        "# One or more non-whitespace that ends with 'ay'\n",
        "print(re.findall(r'\\w+$',my_text))\n",
        "print(re.findall(r'\\S+$',my_text))"
      ],
      "execution_count": null,
      "outputs": [
        {
          "output_type": "stream",
          "text": [
            "['day']\n",
            "['day']\n"
          ],
          "name": "stdout"
        }
      ]
    },
    {
      "cell_type": "markdown",
      "metadata": {
        "id": "02XHpa2CSCAX"
      },
      "source": [
        "# Searching for Specific Sequence of Characters"
      ]
    },
    {
      "cell_type": "code",
      "metadata": {
        "ExecuteTime": {
          "end_time": "2020-11-12T07:37:13.552597Z",
          "start_time": "2020-11-12T07:37:13.549246Z"
        },
        "scrolled": true,
        "id": "MjWivZZQSCAX",
        "outputId": "52d41d06-f1cd-4fea-af12-3222e4ac35aa"
      },
      "source": [
        "# One or more non-whitespace that contains er\n",
        "print(re.findall(r'\\S+er',my_text))"
      ],
      "execution_count": null,
      "outputs": [
        {
          "output_type": "stream",
          "text": [
            "['customer', 'ser', 'number', 'number']\n"
          ],
          "name": "stdout"
        }
      ]
    },
    {
      "cell_type": "code",
      "metadata": {
        "ExecuteTime": {
          "end_time": "2020-11-09T07:40:07.198856Z",
          "start_time": "2020-11-09T07:40:07.194121Z"
        },
        "id": "GtJLSLnlSCAX",
        "outputId": "9990c449-dcdc-47d7-c924-0a0d978fe60e"
      },
      "source": [
        "# Sequence Pattern of words - words\n",
        "my_text=\"Amazon's customer service phone-number is 1-888-280-4331.You can call that number 24 hours a day\"\n",
        "re.findall(r'[\\w]+-[\\w]+',my_text)"
      ],
      "execution_count": null,
      "outputs": [
        {
          "output_type": "execute_result",
          "data": {
            "text/plain": [
              "['phone-number', '1-888', '280-4331']"
            ]
          },
          "metadata": {
            "tags": []
          },
          "execution_count": 118
        }
      ]
    },
    {
      "cell_type": "markdown",
      "metadata": {
        "id": "LZC7XkzLSCAX"
      },
      "source": [
        "### Exclusion\n",
        "Any content can be excluded if it is put inside square brackets and ^ "
      ]
    },
    {
      "cell_type": "code",
      "metadata": {
        "ExecuteTime": {
          "end_time": "2020-11-10T17:37:12.010508Z",
          "start_time": "2020-11-10T17:37:12.004377Z"
        },
        "id": "GgwO5D4USCAX",
        "outputId": "7d9b4c4b-c678-43d6-9604-da08230cb982"
      },
      "source": [
        "my_text=\"Amazon's customer service phone number is 1-888-280-4331.You can call that number 24 hours a day\"\n",
        "\n",
        "print(re.findall(r'[^\\d]',my_text))\n",
        "\n",
        "# to  exclude specific content like digits and keep the rest as words, we just add plus sign\n",
        "re.findall(r'[^\\d]+',my_text)\n"
      ],
      "execution_count": null,
      "outputs": [
        {
          "output_type": "stream",
          "text": [
            "['A', 'm', 'a', 'z', 'o', 'n', \"'\", 's', ' ', 'c', 'u', 's', 't', 'o', 'm', 'e', 'r', ' ', 's', 'e', 'r', 'v', 'i', 'c', 'e', ' ', 'p', 'h', 'o', 'n', 'e', ' ', 'n', 'u', 'm', 'b', 'e', 'r', ' ', 'i', 's', ' ', '-', '-', '-', '.', 'Y', 'o', 'u', ' ', 'c', 'a', 'n', ' ', 'c', 'a', 'l', 'l', ' ', 't', 'h', 'a', 't', ' ', 'n', 'u', 'm', 'b', 'e', 'r', ' ', ' ', 'h', 'o', 'u', 'r', 's', ' ', 'a', ' ', 'd', 'a', 'y']\n"
          ],
          "name": "stdout"
        },
        {
          "output_type": "execute_result",
          "data": {
            "text/plain": [
              "[\"Amazon's customer service phone number is \",\n",
              " '-',\n",
              " '-',\n",
              " '-',\n",
              " '.You can call that number ',\n",
              " ' hours a day']"
            ]
          },
          "metadata": {
            "tags": []
          },
          "execution_count": 17
        }
      ]
    },
    {
      "cell_type": "markdown",
      "metadata": {
        "id": "0N6jGnwUSCAX"
      },
      "source": [
        "# Cleaning from Punctuation"
      ]
    },
    {
      "cell_type": "code",
      "metadata": {
        "ExecuteTime": {
          "end_time": "2020-11-12T09:22:13.693807Z",
          "start_time": "2020-11-12T09:22:13.689997Z"
        },
        "id": "6ulOLot8SCAX",
        "outputId": "e74c2610-5efa-4d57-eac8-1f29e5ecfe42"
      },
      "source": [
        "# Cleaning from Panctuation\n",
        "\n",
        "my_text=\"Amazon's customer service phone number is 1-888-280-4331.You can call that number 24 hours a day!,is this helpful?\"\n",
        "\n",
        "print(re.findall('[^!.? ,]+',my_text))\n"
      ],
      "execution_count": null,
      "outputs": [
        {
          "output_type": "stream",
          "text": [
            "[\"Amazon's\", 'customer', 'service', 'phone', 'number', 'is', '1-888-280-4331', 'You', 'can', 'call', 'that', 'number', '24', 'hours', 'a', 'day', 'is', 'this', 'helpful']\n"
          ],
          "name": "stdout"
        }
      ]
    },
    {
      "cell_type": "code",
      "metadata": {
        "ExecuteTime": {
          "end_time": "2020-11-12T09:22:16.346232Z",
          "start_time": "2020-11-12T09:22:16.341091Z"
        },
        "id": "ArmjOvh9SCAX",
        "outputId": "f786a340-4500-4789-c091-7343a104a345"
      },
      "source": [
        "# to get the clean text as a string, we use the 'join' method\n",
        "cleaned_text = ' '.join(re.findall('[^!.?,]+',my_text))\n",
        "cleaned_text"
      ],
      "execution_count": null,
      "outputs": [
        {
          "output_type": "execute_result",
          "data": {
            "text/plain": [
              "\"Amazon's customer service phone number is 1-888-280-4331 You can call that number 24 hours a day is this helpful\""
            ]
          },
          "metadata": {
            "tags": []
          },
          "execution_count": 36
        }
      ]
    },
    {
      "cell_type": "code",
      "metadata": {
        "id": "Omcusqv7SCAY"
      },
      "source": [
        ""
      ],
      "execution_count": null,
      "outputs": []
    }
  ]
}